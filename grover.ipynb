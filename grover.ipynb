{
  "nbformat": 4,
  "nbformat_minor": 0,
  "metadata": {
    "colab": {
      "name": "grover",
      "provenance": [],
      "collapsed_sections": [],
      "include_colab_link": true
    },
    "kernelspec": {
      "name": "python3",
      "display_name": "Python 3"
    },
    "accelerator": "GPU"
  },
  "cells": [
    {
      "cell_type": "markdown",
      "metadata": {
        "id": "view-in-github",
        "colab_type": "text"
      },
      "source": [
        "<a href=\"https://colab.research.google.com/github/bkkaggle/grover/blob/master/grover.ipynb\" target=\"_parent\"><img src=\"https://colab.research.google.com/assets/colab-badge.svg\" alt=\"Open In Colab\"/></a>"
      ]
    },
    {
      "cell_type": "code",
      "metadata": {
        "id": "vMIVWsivwDF5",
        "colab_type": "code",
        "cellView": "both",
        "colab": {}
      },
      "source": [
        "#@title\n",
        "\n",
        "import os\n",
        "import json\n",
        "import subprocess\n",
        "\n",
        "!git clone https://github.com/bkkaggle/grover.git\n",
        "\n",
        "os.chdir('grover/')\n",
        "\n",
        "!pip install -r requirements-gpu.txt\n",
        "!python download_model.py mega"
      ],
      "execution_count": 0,
      "outputs": []
    },
    {
      "cell_type": "code",
      "metadata": {
        "id": "asS5-kUyxjZr",
        "colab_type": "code",
        "colab": {}
      },
      "source": [
        "!python generate.py --title=\"Why Spacex will win the space race\" --author=\"Paul Krugman\" --date=\"08-31-2019\" --domain=\"nytimes.com\""
      ],
      "execution_count": 0,
      "outputs": []
    }
  ]
}